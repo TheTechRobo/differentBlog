{
 "cells": [
  {
   "cell_type": "markdown",
   "metadata": {},
   "source": [
    "# The First Post™\n",
    "> A post that is a post for the sake of being a post for being a post...\n",
    "\n",
    "- toc: true \n",
    "- badges: true\n",
    "- comments: true\n",
    "- categories: [test]"
   ]
  },
  {
   "cell_type": "markdown",
   "metadata": {},
   "source": [
    "# About\n",
    "\n",
    "I am currently testing out jupyter notebook with fastpages!!"
   ]
  },
  {
   "cell_type": "code",
   "execution_count": 2,
   "metadata": {},
   "outputs": [
    {
     "name": "stdout",
     "output_type": "stream",
     "text": [
      "Hello, I am a weirdo\n"
     ]
    }
   ],
   "source": [
    "print(\"Hello, I am a weirdo\")"
   ]
  },
  {
   "cell_type": "code",
   "execution_count": 6,
   "metadata": {},
   "outputs": [
    {
     "name": "stdout",
     "output_type": "stream",
     "text": [
      "no u\n"
     ]
    }
   ],
   "source": [
    "x = \"no\"\n",
    "Y = \"s\"\n",
    "y = chr(ord(Y) + 2)\n",
    "print(x, y)"
   ]
  },
  {
   "cell_type": "markdown",
   "metadata": {},
   "source": [
    "# So\n",
    "So anyway, how are you? I'm doin' decent. Try out the \"comment section\" it's really cool!!"
   ]
  },
  {
   "cell_type": "markdown",
   "metadata": {},
   "source": [
    "# I still can't believe how great this is\n",
    "> Tip: To have a great OS, visit elivecd.org!\n",
    "> Warning: The Stable version is built on Debian Wheezy.\n",
    "> Important: But the Beta version is amazing! Rock solid and retro. \n",
    "> Note: I exist."
   ]
  },
  {
   "cell_type": "markdown",
   "metadata": {},
   "source": [
    "# Bye!\n",
    "Check the comment section below. And maybe post a comment?? :D"
   ]
  },
  {
   "cell_type": "code",
   "execution_count": 12,
   "metadata": {},
   "outputs": [
    {
     "name": "stdout",
     "output_type": "stream",
     "text": [
      " try out the comment section or else"
     ]
    }
   ],
   "source": [
    "#s = [\"ha\", \"you\", \"may never\", \"know\", \"what\", \"was\", \"here\"]\n",
    "#for item in s:\n",
    "#    for letter in item:\n",
    "#        print(f\"{letter}: {chr(ord(letter) - 1)}\")\n",
    "s = [\"sqx\", \"nts\", \"sgd\", \"bnlldms\", \"rdbshnm\", \"nq\", \"dkrd\"]\n",
    "for item in s:\n",
    "    print(\" \", end=\"\")\n",
    "    for letter in item:\n",
    "        print(f\"{chr(ord(letter) + 1)}\", end=\"\")"
   ]
  },
  {
   "cell_type": "code",
   "execution_count": null,
   "metadata": {},
   "outputs": [],
   "source": []
  }
 ],
 "metadata": {
  "kernelspec": {
   "display_name": "Python 3",
   "language": "python",
   "name": "python3"
  },
  "language_info": {
   "codemirror_mode": {
    "name": "ipython",
    "version": 3
   },
   "file_extension": ".py",
   "mimetype": "text/x-python",
   "name": "python",
   "nbconvert_exporter": "python",
   "pygments_lexer": "ipython3",
   "version": "3.7.3"
  }
 },
 "nbformat": 4,
 "nbformat_minor": 4
}
